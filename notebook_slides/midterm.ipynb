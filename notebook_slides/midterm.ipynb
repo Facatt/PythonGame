{
 "cells": [
  {
   "cell_type": "markdown",
   "id": "ccede206",
   "metadata": {},
   "source": [
    "# 编程题（70分）"
   ]
  },
  {
   "cell_type": "code",
   "execution_count": 1,
   "id": "37cd989c",
   "metadata": {},
   "outputs": [],
   "source": [
    "# 1.已知目前的纯数字列表current_list，求所有元素的和(5分)\n",
    "current_list = [2,1,3,6,2,7,5,9,0,8,3,2]"
   ]
  },
  {
   "cell_type": "code",
   "execution_count": 2,
   "id": "5c62752c",
   "metadata": {},
   "outputs": [],
   "source": [
    "# 2.已知目前的纯数字列表current_list，求元素2出现的次数(8分)\n",
    "current_list = [2,1,3,6,2,7,5,9,0,8,3,2]"
   ]
  },
  {
   "cell_type": "code",
   "execution_count": 3,
   "id": "c8cc85cb",
   "metadata": {},
   "outputs": [],
   "source": [
    "# 3.一种球类运动中有6分和1分两种进球方式，假设记分员的计分格式是\"队名_人名_分数\"\n",
    "#   现在已知记分员的记录列表records，解析出两个队得分球员的名字和得到的分数，\n",
    "#   存进两个字典里，例如 teamA = {\"Bill\":12, \"Bob\":3} teamB = {\"Jeremy\":12, \"Gary\":18}\n",
    "#   (12分)\n",
    "records = ['A_Bill_6','B_Jeremy_6', 'A_Bill_1', 'B_Gary_6', 'A_Bob_1', 'B_Gary_6']"
   ]
  },
  {
   "cell_type": "code",
   "execution_count": null,
   "id": "c1b8dfa4",
   "metadata": {},
   "outputs": [],
   "source": [
    "# 4. 井字棋，玩法 两个玩家，一个打圈O，一个打叉X，轮流在3乘3的格上打自己的符号，\n",
    "#    最先以横、直、斜连成一线则为胜。完成下面几小问：\n",
    "\n",
    "# 4.1 创建变量表示目前两个玩家和棋盘的状态 (9分)\n",
    "#    \\ X \\ O \\   \\\n",
    "#    \\ O \\ X \\   \\\n",
    "#    \\   \\   \\ O \\\n",
    "player_X = \n",
    "player_O = \n",
    "grid = \n",
    "\n",
    "# 4.2 写出判断player_X是否获胜的代码，如果获胜print('X win')，\n",
    "#     否则print('on going') （16分）\n"
   ]
  },
  {
   "cell_type": "code",
   "execution_count": null,
   "id": "78173619",
   "metadata": {},
   "outputs": [],
   "source": [
    "# 5. 已知初始值用户名和密码存在一个字典里：\n",
    "#    user_password = {\"菇凉dёぷ蘑菇\": \"123456\",\n",
    "#                     \"╰☆獨愛妳?\": \"7891011\"}\n",
    "\n",
    "user_password = {\"菇凉dёぷ蘑菇\": \"123456\",\n",
    "                    \"╰☆獨愛妳?\": \"7891011\"}\n",
    "\n",
    "# 5.1. 注册新用户，用input函数输入用户名和密码（6分）\n",
    "\n",
    "\n",
    "# 5.2. 登录，验证用户名是否在字典里，并且验证密码是否正确（14分）\n"
   ]
  }
 ],
 "metadata": {
  "kernelspec": {
   "display_name": "Python 3 (ipykernel)",
   "language": "python",
   "name": "python3"
  },
  "language_info": {
   "codemirror_mode": {
    "name": "ipython",
    "version": 3
   },
   "file_extension": ".py",
   "mimetype": "text/x-python",
   "name": "python",
   "nbconvert_exporter": "python",
   "pygments_lexer": "ipython3",
   "version": "3.9.7"
  }
 },
 "nbformat": 4,
 "nbformat_minor": 5
}
