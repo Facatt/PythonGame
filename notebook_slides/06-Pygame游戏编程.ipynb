{
 "cells": [
  {
   "cell_type": "markdown",
   "id": "85c4b504",
   "metadata": {},
   "source": [
    "# Python 模块(Module)\n",
    "\n",
    "是一个 Python 文件，以 .py 结尾，包含了 Python 对象定义和Python语句。\n",
    "\n",
    "模块让你能够有逻辑地组织你的 Python 代码段。\n",
    "\n",
    "把相关的代码分配到一个模块里能让你的代码更好用，更易懂。\n",
    "\n",
    "模块里能定义函数，类和变量，模块里也能包含可执行的代码。"
   ]
  },
  {
   "cell_type": "markdown",
   "id": "03f92d05",
   "metadata": {},
   "source": [
    "# import 语句"
   ]
  },
  {
   "cell_type": "markdown",
   "id": "4102243d",
   "metadata": {},
   "source": [
    "模块定义好后，我们可以使用 import 语句来引入模块，语法如下：\n",
    "\n",
    "import 模块名\n",
    "\n",
    "import 模块名1， 模块名2\n",
    "\n",
    "import 模块名.函数名 （不常用，引入模块里定义的某个函数通常用下面的方法）\n",
    "\n",
    "from 模块名 import 函数名\n",
    "\n",
    "from 模块名 import 函数名1，函数名2，..., 函数名n\n",
    "\n",
    "from 模块名 import 类名\n",
    "\n",
    "from 模块名 import 类名1, 类名2,..., 类名3"
   ]
  },
  {
   "cell_type": "code",
   "execution_count": 1,
   "id": "084e4f8c",
   "metadata": {},
   "outputs": [],
   "source": [
    "import test"
   ]
  },
  {
   "cell_type": "code",
   "execution_count": 2,
   "id": "015e86ac",
   "metadata": {},
   "outputs": [
    {
     "data": {
      "text/plain": [
       "3"
      ]
     },
     "execution_count": 2,
     "metadata": {},
     "output_type": "execute_result"
    }
   ],
   "source": [
    "test.add(1,2)"
   ]
  },
  {
   "cell_type": "code",
   "execution_count": 3,
   "id": "2c778c6b",
   "metadata": {},
   "outputs": [
    {
     "data": {
      "text/plain": [
       "3"
      ]
     },
     "execution_count": 3,
     "metadata": {},
     "output_type": "execute_result"
    }
   ],
   "source": [
    "from test import add\n",
    "\n",
    "add(1,2)"
   ]
  },
  {
   "cell_type": "code",
   "execution_count": 4,
   "id": "133caa03",
   "metadata": {},
   "outputs": [],
   "source": [
    "from test import People"
   ]
  },
  {
   "cell_type": "code",
   "execution_count": 5,
   "id": "aaf719a0",
   "metadata": {},
   "outputs": [],
   "source": [
    "p = People('Bill')"
   ]
  },
  {
   "cell_type": "code",
   "execution_count": 6,
   "id": "4b9a3dce",
   "metadata": {},
   "outputs": [
    {
     "data": {
      "text/plain": [
       "'Bill'"
      ]
     },
     "execution_count": 6,
     "metadata": {},
     "output_type": "execute_result"
    }
   ],
   "source": [
    "p.get_name()"
   ]
  },
  {
   "cell_type": "markdown",
   "id": "f6a06553",
   "metadata": {},
   "source": [
    "# pip install"
   ]
  },
  {
   "cell_type": "markdown",
   "id": "a2c0aad5",
   "metadata": {},
   "source": [
    " pip是Python的软件包管理器，它可以方便地安装、升级和卸载Python软件包。 它是Python的标准包管理器，自Python 3.4版本开始，已经内置在Python中。 使用pip，你可以轻松地安装和管理Python软件包，这些软件包可以帮助你完成各种任务，例如Web开发、数据分析、机器学习等。"
   ]
  },
  {
   "cell_type": "markdown",
   "id": "9cd0c0f7",
   "metadata": {},
   "source": [
    "常用指令为：\n",
    "\n",
    "|  指令   | 作用  |\n",
    "|  :----  | :----  |\n",
    "| pip list  | 列出已安装的包 |\n",
    "| pip install package_name | 安装某个包的最新版本 |\n",
    "| pip install package_name==1.10.4 | 安装某个包的指定版本 |\n",
    "| pip install package_name | 卸载某个包 |"
   ]
  },
  {
   "cell_type": "markdown",
   "id": "15281f29",
   "metadata": {},
   "source": [
    "现在尝试 pip install pygame"
   ]
  },
  {
   "cell_type": "markdown",
   "id": "de16395b",
   "metadata": {},
   "source": [
    "# pygame"
   ]
  },
  {
   "cell_type": "markdown",
   "id": "f4cb567b",
   "metadata": {},
   "source": [
    "pygame开发游戏的基础是创建游戏窗口，核心是处理事件、更新游戏状态和在屏幕上绘制图形。游戏状态可以理解为程序中所有变量值的列表。在有些游戏中，游戏状态包括存放人物健康个位置的变量、物体或图形位置的变化，这些值可以在屏幕上表示。\n",
    "\n",
    "物体或图形位置的变化只有通过在屏幕上绘图才可以看出来。\n",
    "\n",
    "可以简单的抽象出pygame开发游戏的主要流程如下：\n",
    "\n",
    "<center><img src=\"./imgs/pygameflow.png\" width=\"30%\"/></center>"
   ]
  },
  {
   "cell_type": "code",
   "execution_count": 2,
   "id": "352c6a55",
   "metadata": {},
   "outputs": [],
   "source": [
    "import pygame\n",
    "import sys\n",
    "\n",
    "def hello_world():\n",
    "    pygame.init()\n",
    "    pygame.display.set_mode((400, 600))\n",
    "    pygame.display.set_caption(\"Hello World!\")\n",
    "    while True:\n",
    "        for event in pygame.event.get():\n",
    "            if event.type == pygame.QUIT:\n",
    "                pygame.quit()\n",
    "                sys.exit()\n",
    "        pygame.display.update()"
   ]
  },
  {
   "cell_type": "code",
   "execution_count": 3,
   "id": "532bf4ba",
   "metadata": {},
   "outputs": [
    {
     "ename": "SystemExit",
     "evalue": "",
     "output_type": "error",
     "traceback": [
      "An exception has occurred, use %tb to see the full traceback.\n",
      "\u001b[1;31mSystemExit\u001b[0m\n"
     ]
    },
    {
     "name": "stderr",
     "output_type": "stream",
     "text": [
      "C:\\ProgramData\\Anaconda3\\lib\\site-packages\\IPython\\core\\interactiveshell.py:3452: UserWarning: To exit: use 'exit', 'quit', or Ctrl-D.\n",
      "  warn(\"To exit: use 'exit', 'quit', or Ctrl-D.\", stacklevel=1)\n"
     ]
    }
   ],
   "source": [
    "hello_world()"
   ]
  },
  {
   "cell_type": "markdown",
   "id": "9f2af759",
   "metadata": {},
   "source": [
    "在导入pygame模块后，任何pygame游戏程序均需要执行 pygame.init() 语句进行模块的初始化，它必须在进入游戏的无限循环之前被调用。这个函数会自动初始化其他所有模块（例如 pygame.font 和 pygame.image），通过它载入驱动和硬件请求，这样游戏程序才可以使用计算机上的所有设备，比较费时间。如果只使用少量的模块，应该分别初始化这些模块以节省时间，例如 pygame.sound.init() 仅仅初始化声音模块。\n",
    "\n",
    "该代码中有个无限循环，每个 pygame 程序都需要它，在无限循环中可以做以下操作。\n",
    "\n",
    "1.处理事件：例如鼠标 、键盘 、关闭窗口等事件。\n",
    "2.更新游戏状态：例如坦克的位置变化 、数量变化等。\n",
    "3.在屏幕上绘图：例如绘制新的敌方坦克等。\n",
    "\n",
    "不断重复上面3个步骤，从而完成游戏逻辑。\n",
    "\n",
    "在本例代码中仅仅处理关闭窗口事件，也就是玩家关闭窗口时 pyagme.quit() 退出游戏。"
   ]
  },
  {
   "cell_type": "markdown",
   "id": "460f368b",
   "metadata": {},
   "source": [
    "# pygame 常用模块"
   ]
  },
  {
   "cell_type": "code",
   "execution_count": null,
   "id": "c019a085",
   "metadata": {},
   "outputs": [],
   "source": []
  },
  {
   "cell_type": "markdown",
   "id": "7f55d40f",
   "metadata": {},
   "source": [
    "## pygame.display & pygame.image\n",
    "\n",
    "用于处理图形显示相关的功能"
   ]
  },
  {
   "cell_type": "code",
   "execution_count": 8,
   "id": "d0d3c7ed",
   "metadata": {},
   "outputs": [],
   "source": [
    "import pygame \n",
    "  \n",
    "# Construct the GUI game \n",
    "pygame.init() \n",
    "  \n",
    "# Set dimensions of game GUI \n",
    "screen = pygame.display.set_mode([600, 400]) \n",
    "  \n",
    "# Take image as input \n",
    "img = pygame.image.load('tree.png') \n",
    "  \n",
    "# Set image as icon \n",
    "pygame.display.set_icon(img) \n",
    "  \n",
    "# Set running value \n",
    "running = True\n",
    "  \n",
    "# Setting what happens when game  \n",
    "# is in running state \n",
    "while running: \n",
    "    for event in pygame.event.get(): \n",
    "\n",
    "        # Close if the user quits the game \n",
    "        if event.type == pygame.QUIT: \n",
    "            running = False\n",
    "\n",
    "    # Set the background color \n",
    "    screen.fill((0, 0, 0)) \n",
    "pygame.quit()"
   ]
  },
  {
   "cell_type": "markdown",
   "id": "8e971f22",
   "metadata": {},
   "source": [
    "## pygame.Rect"
   ]
  },
  {
   "cell_type": "code",
   "execution_count": 9,
   "id": "082d66b7",
   "metadata": {},
   "outputs": [
    {
     "ename": "SystemExit",
     "evalue": "",
     "output_type": "error",
     "traceback": [
      "An exception has occurred, use %tb to see the full traceback.\n",
      "\u001b[1;31mSystemExit\u001b[0m\n"
     ]
    }
   ],
   "source": [
    "# 绘制矩形\n",
    "\n",
    "import pygame\n",
    "import sys\n",
    "\n",
    "# 初始化Pygame\n",
    "pygame.init()\n",
    "\n",
    "# 设置窗口大小\n",
    "screen = pygame.display.set_mode((640, 480))\n",
    "\n",
    "# 创建一个矩形\n",
    "rect = pygame.Rect(50, 50, 100, 100)  # (x, y, width, height)\n",
    "\n",
    "# 游戏主循环\n",
    "running = True\n",
    "while running:\n",
    "    for event in pygame.event.get():\n",
    "        if event.type == pygame.QUIT:\n",
    "            running = False\n",
    "\n",
    "    # 填充背景色\n",
    "    screen.fill((0, 0, 0))\n",
    "\n",
    "    # 绘制矩形\n",
    "    pygame.draw.rect(screen, (255, 0, 0), rect)  # 绘制红色矩形\n",
    "\n",
    "    # 更新屏幕显示\n",
    "    pygame.display.flip()\n",
    "\n",
    "# 退出Pygame\n",
    "pygame.quit()\n",
    "sys.exit()"
   ]
  },
  {
   "cell_type": "code",
   "execution_count": 10,
   "id": "60ee11b6",
   "metadata": {},
   "outputs": [
    {
     "ename": "SystemExit",
     "evalue": "",
     "output_type": "error",
     "traceback": [
      "An exception has occurred, use %tb to see the full traceback.\n",
      "\u001b[1;31mSystemExit\u001b[0m\n"
     ]
    }
   ],
   "source": [
    "#检查点是否在矩形内\n",
    "\n",
    "import pygame\n",
    "import sys\n",
    "\n",
    "# 初始化Pygame\n",
    "pygame.init()\n",
    "\n",
    "# 设置窗口大小\n",
    "screen = pygame.display.set_mode((640, 480))\n",
    "\n",
    "# 创建一个矩形\n",
    "rect = pygame.Rect(50, 50, 100, 100)\n",
    "\n",
    "# 游戏主循环\n",
    "running = True\n",
    "while running:\n",
    "    for event in pygame.event.get():\n",
    "        if event.type == pygame.QUIT:\n",
    "            running = False\n",
    "\n",
    "    mouse_pos = pygame.mouse.get_pos()  # 获取鼠标位置\n",
    "\n",
    "    # 填充背景色\n",
    "    screen.fill((0, 0, 0))\n",
    "\n",
    "    # 绘制矩形\n",
    "    pygame.draw.rect(screen, (255, 0, 0), rect)\n",
    "\n",
    "    # 检查鼠标位置是否在矩形内\n",
    "    if rect.collidepoint(mouse_pos):\n",
    "        pygame.draw.rect(screen, (0, 255, 0), rect, 2)  # 绿色边框表示鼠标在矩形内\n",
    "    else:\n",
    "        pygame.draw.rect(screen, (255, 0, 0), rect)\n",
    "\n",
    "    # 更新屏幕显示\n",
    "    pygame.display.flip()\n",
    "\n",
    "# 退出Pygame\n",
    "pygame.quit()\n",
    "sys.exit()"
   ]
  },
  {
   "cell_type": "code",
   "execution_count": 12,
   "id": "5aaaf50c",
   "metadata": {},
   "outputs": [
    {
     "ename": "SystemExit",
     "evalue": "",
     "output_type": "error",
     "traceback": [
      "An exception has occurred, use %tb to see the full traceback.\n",
      "\u001b[1;31mSystemExit\u001b[0m\n"
     ]
    }
   ],
   "source": [
    "import pygame\n",
    "import sys\n",
    "\n",
    "# 初始化Pygame\n",
    "pygame.init()\n",
    "\n",
    "# 设置窗口大小\n",
    "screen = pygame.display.set_mode((640, 480))\n",
    "\n",
    "# 创建两个矩形\n",
    "rect1 = pygame.Rect(50, 50, 100, 100)\n",
    "rect2 = pygame.Rect(100, 100, 100, 100)\n",
    "\n",
    "# 游戏主循环\n",
    "running = True\n",
    "while running:\n",
    "    for event in pygame.event.get():\n",
    "        if event.type == pygame.QUIT:\n",
    "            running = False\n",
    "\n",
    "    # 填充背景色\n",
    "    screen.fill((0, 0, 0))\n",
    "\n",
    "    # 绘制矩形\n",
    "    pygame.draw.rect(screen, (255, 0, 0), rect1)\n",
    "    pygame.draw.rect(screen, (0, 0, 255), rect2)\n",
    "\n",
    "    # 检查两个矩形是否相交\n",
    "    if rect1.colliderect(rect2):\n",
    "        pygame.draw.rect(screen, (0, 255, 0), rect1)  # 绿色表示相交\n",
    "        pygame.draw.rect(screen, (0, 255, 0), rect2)  # 绿色表示相交\n",
    "\n",
    "    # 更新屏幕显示\n",
    "    pygame.display.flip()\n",
    "\n",
    "# 退出Pygame\n",
    "pygame.quit()\n",
    "sys.exit()"
   ]
  },
  {
   "cell_type": "markdown",
   "id": "4722f1be",
   "metadata": {},
   "source": [
    "## pygame.font"
   ]
  },
  {
   "cell_type": "code",
   "execution_count": 14,
   "id": "71d2ca53",
   "metadata": {},
   "outputs": [
    {
     "ename": "SystemExit",
     "evalue": "",
     "output_type": "error",
     "traceback": [
      "An exception has occurred, use %tb to see the full traceback.\n",
      "\u001b[1;31mSystemExit\u001b[0m\n"
     ]
    }
   ],
   "source": [
    "import pygame\n",
    "import sys\n",
    "\n",
    "# 初始化Pygame\n",
    "pygame.init()\n",
    "\n",
    "# 设置窗口大小\n",
    "screen = pygame.display.set_mode((640, 480))\n",
    "\n",
    "# 设置窗口标题\n",
    "pygame.display.set_caption('Font Example')\n",
    "\n",
    "# 创建字体对象，使用默认字体，字体大小为 36\n",
    "font = pygame.font.Font(None, 36)\n",
    "\n",
    "# 创建自定义颜色\n",
    "white = (255, 255, 255)\n",
    "black = (0, 0, 0)\n",
    "\n",
    "# 初始化得分\n",
    "score = 0\n",
    "\n",
    "# 游戏主循环\n",
    "running = True\n",
    "while running:\n",
    "    for event in pygame.event.get():\n",
    "        if event.type == pygame.QUIT:\n",
    "            running = False\n",
    "        # 检测按键事件来增加得分\n",
    "        elif event.type == pygame.KEYDOWN:\n",
    "            if event.key == pygame.K_SPACE:\n",
    "                score += 10\n",
    "\n",
    "    # 填充背景色\n",
    "    screen.fill(black)\n",
    "\n",
    "    # 渲染得分文本\n",
    "    score_text = font.render('Score: ' + str(score), True, white)\n",
    "    score_rect = score_text.get_rect(topleft=(10, 10))\n",
    "    screen.blit(score_text, score_rect)\n",
    "\n",
    "    # 渲染主文本\n",
    "    hello_text = font.render('Hello, Pygame!', True, white)\n",
    "    hello_rect = hello_text.get_rect(center=(320, 240))\n",
    "    screen.blit(hello_text, hello_rect)\n",
    "\n",
    "    # 更新屏幕显示\n",
    "    pygame.display.flip()\n",
    "\n",
    "    # 控制文本更新的速度\n",
    "    pygame.time.Clock().tick(30)\n",
    "\n",
    "# 退出Pygame\n",
    "pygame.quit()\n",
    "sys.exit()"
   ]
  },
  {
   "cell_type": "markdown",
   "id": "05cab790",
   "metadata": {},
   "source": [
    "## pygame.key"
   ]
  },
  {
   "cell_type": "code",
   "execution_count": 17,
   "id": "4e9f7325",
   "metadata": {},
   "outputs": [
    {
     "ename": "SystemExit",
     "evalue": "",
     "output_type": "error",
     "traceback": [
      "An exception has occurred, use %tb to see the full traceback.\n",
      "\u001b[1;31mSystemExit\u001b[0m\n"
     ]
    }
   ],
   "source": [
    "import pygame\n",
    "import sys\n",
    "\n",
    "# 初始化Pygame\n",
    "pygame.init()\n",
    "\n",
    "# 设置窗口大小\n",
    "screen = pygame.display.set_mode((640, 480))\n",
    "\n",
    "# 设置窗口标题\n",
    "pygame.display.set_caption('Character Movement')\n",
    "\n",
    "# 加载人物图标\n",
    "character_img = pygame.image.load('kunkun.png')\n",
    "character_img = pygame.transform.scale(character_img, (50, 50))\n",
    "character_rect = character_img.get_rect()\n",
    "\n",
    "# 设置人物的初始位置\n",
    "character_rect.x = 50\n",
    "character_rect.y = 50\n",
    "\n",
    "# 设置移动速度\n",
    "speed = 5\n",
    "\n",
    "# 游戏主循环\n",
    "running = True\n",
    "while running:\n",
    "    for event in pygame.event.get():\n",
    "        if event.type == pygame.QUIT:\n",
    "            running = False\n",
    "\n",
    "    # 检测按键事件来移动人物\n",
    "    keys = pygame.key.get_pressed()\n",
    "    if keys[pygame.K_LEFT]:\n",
    "        character_rect.x -= speed\n",
    "    if keys[pygame.K_RIGHT]:\n",
    "        character_rect.x += speed\n",
    "    if keys[pygame.K_UP]:\n",
    "        character_rect.y -= speed\n",
    "    if keys[pygame.K_DOWN]:\n",
    "        character_rect.y += speed\n",
    "\n",
    "    # 填充背景色\n",
    "    screen.fill((0, 0, 0))\n",
    "\n",
    "    # 绘制人物图标\n",
    "    screen.blit(character_img, character_rect)\n",
    "\n",
    "    # 更新屏幕显示\n",
    "    pygame.display.flip()\n",
    "\n",
    "    # 控制游戏循环的速度\n",
    "    pygame.time.Clock().tick(30)\n",
    "\n",
    "# 退出Pygame\n",
    "pygame.quit()\n",
    "sys.exit()"
   ]
  },
  {
   "cell_type": "code",
   "execution_count": null,
   "id": "dc8452d8",
   "metadata": {},
   "outputs": [],
   "source": []
  }
 ],
 "metadata": {
  "kernelspec": {
   "display_name": "Python 3 (ipykernel)",
   "language": "python",
   "name": "python3"
  },
  "language_info": {
   "codemirror_mode": {
    "name": "ipython",
    "version": 3
   },
   "file_extension": ".py",
   "mimetype": "text/x-python",
   "name": "python",
   "nbconvert_exporter": "python",
   "pygments_lexer": "ipython3",
   "version": "3.9.7"
  }
 },
 "nbformat": 4,
 "nbformat_minor": 5
}
