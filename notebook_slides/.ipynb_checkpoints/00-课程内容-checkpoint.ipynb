{
 "cells": [
  {
   "cell_type": "markdown",
   "metadata": {
    "slideshow": {
     "slide_type": "slide"
    }
   },
   "source": [
    "# <center>Python编程基础和游戏开发</center>\n",
    "\n",
    "<br>\n",
    "\n",
    "\n",
    "#### <center>讲师：秦紫浩</center>\n",
    "\n"
   ]
  },
  {
   "cell_type": "markdown",
   "metadata": {
    "slideshow": {
     "slide_type": "slide"
    }
   },
   "source": [
    "## 课程介绍\n",
    "\n",
    "- Python 编程基础和游戏开发\n",
    "- 语言： Python\n",
    "- 教学方式：讲授 + 实操"
   ]
  },
  {
   "cell_type": "markdown",
   "metadata": {
    "slideshow": {
     "slide_type": "subslide"
    }
   },
   "source": [
    "## 课程内容\n",
    "- Python概述\n",
    "- 常用数据类型\n",
    "- 条件判断与循环\n",
    "- 函数与函数编程\n",
    "- 面向对象编程基础\n",
    "- 面向对象编程进阶\n",
    "- 文件操作，矩阵计算，数据图\n",
    "- pygame基础\n",
    "- pygame进阶\n",
    "- pygame游戏案例程序讲解"
   ]
  },
  {
   "cell_type": "markdown",
   "metadata": {
    "slideshow": {
     "slide_type": "subslide"
    }
   },
   "source": [
    "## 分数占比\n",
    "- 出勤 10%\n",
    "- 每周作业（课上完成）20%\n",
    "- 第五周课上小测试（理论+代码） 20%\n",
    "- 第十周课上小测试（理论+代码） 20%\n",
    "- 期末小游戏设计大作业（分三周12,13,14周完成，每周检查部分代码+提问）30% （功能完整20% + 答辩通过10%）"
   ]
  },
  {
   "cell_type": "markdown",
   "metadata": {
    "slideshow": {
     "slide_type": "subslide"
    }
   },
   "source": [
    "## 每周课程内容占比\n",
    "\n",
    "- 第一节：回顾上周内容，讲师提出问题，小组合作写出代码\n",
    "- 第二节：讲解新知识\n",
    "- 第三节：讲解新知识 + 讲解案例代码\n",
    "- 第四节：当堂完成本周作业"
   ]
  },
  {
   "cell_type": "markdown",
   "metadata": {
    "slideshow": {
     "slide_type": "subslide"
    }
   },
   "source": [
    "## 课程理念\n",
    "\n",
    "- 不希望占用同学们过多课余时间，课余时间希望大家早日实习，多接触各行各业不同的事物，找到自己喜欢的事业。\n",
    "- 希望同学能够理解编程是在做什么，日后如何与程序员同事合作。\n",
    "- 更希望同学们可以利用python这门万金油工具编程语言，方便自己的工作和生活。"
   ]
  },
  {
   "cell_type": "markdown",
   "metadata": {
    "slideshow": {
     "slide_type": "subslide"
    }
   },
   "source": [
    "## 计算机在做什么？\n",
    "\n",
    "#### 最重要的两点：\n",
    "- 计算\n",
    "- 存储"
   ]
  },
  {
   "cell_type": "markdown",
   "metadata": {
    "slideshow": {
     "slide_type": "subslide"
    }
   },
   "source": [
    "## 理解计算机的组成\n",
    "<br>\n",
    "<br>\n",
    "<center><img src=\"./figures/fig0-1.webp\" width=\"60%\"/></center>"
   ]
  },
  {
   "cell_type": "markdown",
   "metadata": {
    "slideshow": {
     "slide_type": "subslide"
    }
   },
   "source": [
    "## 计算机语言\n",
    "<br>\n",
    "<center><img src=\"./figures/fig0-4.png\" width=\"60%\"/></center>\n",
    "<br>"
   ]
  },
  {
   "cell_type": "markdown",
   "metadata": {},
   "source": [
    "## 计算机思维\n",
    "\n",
    "- 输入设备是什么？输出设备是什么？\n",
    "- 输入是什么？输出是什么？这里的输入和输出指的是计算机里能实际存储的数值或者字符或者其他数据\n",
    "- 我应该用什么样的逻辑（条件判断，循环等）和计算（加减乘等）去得到这样的输出\n",
    "\n",
    "<br>\n",
    "<center><img src=\"./figures/fig0-3.png\" width=\"60%\"/></center>\n",
    "<br>\n",
    "\n",
    "\n",
    "- 观看以下一段典中典cs1.6视频，小组讨论上面的问题\n",
    "\n",
    "    https://www.bilibili.com/video/BV18N411t7yX/?spm_id_from=333.788.recommend_more_video.1&vd_source=c29e0636487e6ae81419427181e3134f\n",
    "\n",
    "<br>\n",
    "<center><img src=\"./figures/fig0-2.jpg\" width=\"60%\"/></center>\n",
    "<br>"
   ]
  },
  {
   "cell_type": "code",
   "execution_count": null,
   "metadata": {},
   "outputs": [],
   "source": []
  }
 ],
 "metadata": {
  "author": "liuchen",
  "celltoolbar": "幻灯片",
  "kernelspec": {
   "display_name": "Python 3 (ipykernel)",
   "language": "python",
   "name": "python3"
  },
  "language_info": {
   "codemirror_mode": {
    "name": "ipython",
    "version": 3
   },
   "file_extension": ".py",
   "mimetype": "text/x-python",
   "name": "python",
   "nbconvert_exporter": "python",
   "pygments_lexer": "ipython3",
   "version": "3.9.7"
  },
  "rise": {
   "enable_chalkboard": true,
   "footer": "",
   "progress": true,
   "scroll": true,
   "slideNumber": true
  },
  "toc": {
   "base_numbering": 1,
   "nav_menu": {},
   "number_sections": false,
   "sideBar": true,
   "skip_h1_title": false,
   "title_cell": "Table of Contents",
   "title_sidebar": "Contents",
   "toc_cell": false,
   "toc_position": {},
   "toc_section_display": true,
   "toc_window_display": false
  },
  "url": "https://github.com/hitlic/python_book"
 },
 "nbformat": 4,
 "nbformat_minor": 2
}
