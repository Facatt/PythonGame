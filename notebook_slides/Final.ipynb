{
 "cells": [
  {
   "cell_type": "code",
   "execution_count": null,
   "id": "e9cc06db",
   "metadata": {},
   "outputs": [],
   "source": [
    "# 1. 定义一个二次函数f(x, a, b, c), 返回ax2 + bx + c计算结果"
   ]
  },
  {
   "cell_type": "code",
   "execution_count": null,
   "id": "34b553a4",
   "metadata": {},
   "outputs": [],
   "source": [
    "# 2. 用列表解析的方式把文件列表['sound1.wav', 'icon1.gif', 'sound2.wav', 'icon2.gif']\n",
    "#   里所有wav文件名（不加后缀）返回成新的列表['sound1', 'sound2']"
   ]
  },
  {
   "cell_type": "code",
   "execution_count": null,
   "id": "58535785",
   "metadata": {},
   "outputs": [],
   "source": [
    "# 3. 定义一个People类，有身高、体重、姓名三个属性，eat(), run()两个方法：eat()会让体重加一，run()会让体重减一"
   ]
  },
  {
   "cell_type": "code",
   "execution_count": null,
   "id": "09ca84de",
   "metadata": {},
   "outputs": [],
   "source": [
    "# 4. 定义一个Student类，继承于People类，有班级、年级、技能列表两个新属性，\n",
    "#    一个study()新的方法：传入参数是某项技能字符串，如\"PS\"，会让技能列表增加传入参数这项技能"
   ]
  },
  {
   "cell_type": "code",
   "execution_count": null,
   "id": "b65624bb",
   "metadata": {},
   "outputs": [],
   "source": []
  }
 ],
 "metadata": {
  "kernelspec": {
   "display_name": "Python 3 (ipykernel)",
   "language": "python",
   "name": "python3"
  },
  "language_info": {
   "codemirror_mode": {
    "name": "ipython",
    "version": 3
   },
   "file_extension": ".py",
   "mimetype": "text/x-python",
   "name": "python",
   "nbconvert_exporter": "python",
   "pygments_lexer": "ipython3",
   "version": "3.9.7"
  }
 },
 "nbformat": 4,
 "nbformat_minor": 5
}
