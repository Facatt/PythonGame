{
 "cells": [
  {
   "cell_type": "markdown",
   "id": "f6a174e1",
   "metadata": {},
   "source": [
    "### Assignment 1"
   ]
  },
  {
   "cell_type": "markdown",
   "id": "ed1b0e09",
   "metadata": {},
   "source": [
    "- 你在设计一款贪吃蛇游戏，如下图：\n",
    "\n",
    "<center><img src=\"img.png\" width=\"45%\"/></center>\n",
    "\n",
    "- 为了简单表示，你设计的游戏界面只是5x5的表格"
   ]
  },
  {
   "cell_type": "markdown",
   "id": "82cb8ec5",
   "metadata": {},
   "source": [
    "1. 创建变量表示背景、蛇、苹果的颜色（考虑如何表示颜色）（10分）"
   ]
  },
  {
   "cell_type": "code",
   "execution_count": null,
   "id": "9386f70a",
   "metadata": {},
   "outputs": [],
   "source": []
  },
  {
   "cell_type": "markdown",
   "id": "3a587b1c",
   "metadata": {},
   "source": [
    "2. 创建变量表示初始的空的背景，要体现出5x5表格的每一个格子的状态（是背景还是蛇身还是苹果） （10分）"
   ]
  },
  {
   "cell_type": "code",
   "execution_count": null,
   "id": "98351fd1",
   "metadata": {},
   "outputs": [],
   "source": []
  },
  {
   "cell_type": "markdown",
   "id": "6e41dc1b",
   "metadata": {},
   "source": [
    "3. 创建变量表示**两只**蛇（要体现出蛇的名字，**蛇身（关键）**，蛇身颜色，蛇身长度），创建变量表示一个苹果（要体现出苹果位置，苹果颜色） （40分）"
   ]
  },
  {
   "cell_type": "code",
   "execution_count": null,
   "id": "47ba26bd",
   "metadata": {},
   "outputs": [],
   "source": []
  },
  {
   "cell_type": "markdown",
   "id": "2ae4f5fb",
   "metadata": {},
   "source": [
    "4. 写出条件表达式，判断蛇吃到了苹果（20分）"
   ]
  },
  {
   "cell_type": "code",
   "execution_count": null,
   "id": "ae1ba9cb",
   "metadata": {},
   "outputs": [],
   "source": []
  },
  {
   "cell_type": "markdown",
   "id": "a77401cb",
   "metadata": {},
   "source": [
    "5. 某一只蛇吃到苹果之后，更新该蛇的状态和苹果的状态 （20分）"
   ]
  },
  {
   "cell_type": "code",
   "execution_count": null,
   "id": "b6326c4b",
   "metadata": {},
   "outputs": [],
   "source": []
  }
 ],
 "metadata": {
  "kernelspec": {
   "display_name": "Python 3 (ipykernel)",
   "language": "python",
   "name": "python3"
  },
  "language_info": {
   "codemirror_mode": {
    "name": "ipython",
    "version": 3
   },
   "file_extension": ".py",
   "mimetype": "text/x-python",
   "name": "python",
   "nbconvert_exporter": "python",
   "pygments_lexer": "ipython3",
   "version": "3.9.7"
  }
 },
 "nbformat": 4,
 "nbformat_minor": 5
}
