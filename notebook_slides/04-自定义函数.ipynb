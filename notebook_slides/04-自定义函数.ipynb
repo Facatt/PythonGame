{
 "cells": [
  {
   "cell_type": "markdown",
   "id": "0896ae78",
   "metadata": {},
   "source": [
    "## Python中的函数是什么？\n",
    "\n",
    "在Python中，函数是一组执行特定任务的相关语句。\n",
    "\n",
    "函数有助于将我们的程序分解为较小的模块。随着我们的项目越来越大，函数使其变得更加有组织和易于管理。\n",
    "\n",
    "此外，它避免了重复写相同的代码，函数使代码可重复使用。"
   ]
  },
  {
   "cell_type": "markdown",
   "id": "0cdaab39",
   "metadata": {},
   "source": [
    "## 函数语法\n",
    "```\n",
    "def function_name(parameter1, parameter2, ...):\n",
    "\t\"\"\"docstring\"\"\"\n",
    "\tstatement1\n",
    "   statement2\n",
    "   ...\n",
    "   return some_value\n",
    "```"
   ]
  },
  {
   "cell_type": "code",
   "execution_count": 1,
   "id": "c1bc2201",
   "metadata": {},
   "outputs": [],
   "source": [
    "def greet(name):\n",
    "    \"\"\"\n",
    "    这是一个打招呼的函数，\n",
    "    通过name参数传递，\n",
    "    要打招呼的人名\n",
    "    \"\"\"\n",
    "    print(\"Hello, \" + name + \". Good morning!\")"
   ]
  },
  {
   "cell_type": "code",
   "execution_count": 2,
   "id": "748a7abb",
   "metadata": {},
   "outputs": [
    {
     "name": "stdout",
     "output_type": "stream",
     "text": [
      "Hello, Bill. Good morning!\n"
     ]
    }
   ],
   "source": [
    "greet('Bill')"
   ]
  },
  {
   "cell_type": "code",
   "execution_count": 3,
   "id": "4e7f4ddf",
   "metadata": {},
   "outputs": [
    {
     "name": "stdout",
     "output_type": "stream",
     "text": [
      "Hello, May. Good morning!\n",
      "None\n"
     ]
    }
   ],
   "source": [
    "print(greet(\"May\"))"
   ]
  },
  {
   "cell_type": "markdown",
   "id": "c657fea9",
   "metadata": {},
   "source": [
    "## 返回值"
   ]
  },
  {
   "cell_type": "markdown",
   "id": "29b99238",
   "metadata": {},
   "source": [
    "return语句用于退出函数并返回到调用函数的位置。\n",
    "```\n",
    "return [expression_list]\n",
    "```\n",
    "该语句可以包含一个表达式，该表达式将被求值并返回值。如果该语句中没有表达式，或者return语句本身不存在于函数中，则该函数将返回None对象。"
   ]
  },
  {
   "cell_type": "code",
   "execution_count": 4,
   "id": "be6bac45",
   "metadata": {},
   "outputs": [
    {
     "name": "stdout",
     "output_type": "stream",
     "text": [
      "2\n"
     ]
    }
   ],
   "source": [
    "def absolute_value(num):\n",
    "    \"\"\"这个函数返回输入数字的绝对值\"\"\"\n",
    "\n",
    "    if num >= 0:\n",
    "        return num\n",
    "    else:\n",
    "        return -num\n",
    "\n",
    "\n",
    "print(absolute_value(2))"
   ]
  },
  {
   "cell_type": "markdown",
   "id": "59bb1512",
   "metadata": {},
   "source": [
    "## 变量的作用域和生命周期\n",
    "变量的作用域是程序中可以识别该变量的部分。从函数外部看不到在函数内部定义的参数和变量。因此，它们具有本地作用域。\n",
    "\n",
    "变量的生命周期是变量在内存中退出的时间。函数内部变量的生命周期与函数执行的时间一样长。\n",
    "\n",
    "一旦我们从函数返回，它们就会被销毁。因此，函数无法记住其先前调用中的变量值。"
   ]
  },
  {
   "cell_type": "code",
   "execution_count": 5,
   "id": "446c021e",
   "metadata": {},
   "outputs": [
    {
     "name": "stdout",
     "output_type": "stream",
     "text": [
      "函数内部值: 10\n",
      "函数外部值: 20\n"
     ]
    }
   ],
   "source": [
    "def my_func():\n",
    "    x = 10\n",
    "    print(\"函数内部值:\",x)\n",
    "\n",
    "x = 20\n",
    "my_func()\n",
    "print(\"函数外部值:\",x)"
   ]
  },
  {
   "cell_type": "code",
   "execution_count": null,
   "id": "dfdfa7e2",
   "metadata": {},
   "outputs": [],
   "source": []
  }
 ],
 "metadata": {
  "kernelspec": {
   "display_name": "Python 3 (ipykernel)",
   "language": "python",
   "name": "python3"
  },
  "language_info": {
   "codemirror_mode": {
    "name": "ipython",
    "version": 3
   },
   "file_extension": ".py",
   "mimetype": "text/x-python",
   "name": "python",
   "nbconvert_exporter": "python",
   "pygments_lexer": "ipython3",
   "version": "3.9.7"
  }
 },
 "nbformat": 4,
 "nbformat_minor": 5
}
