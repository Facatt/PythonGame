{
 "cells": [
  {
   "cell_type": "markdown",
   "metadata": {},
   "source": [
    "## 2.0 值\n",
    "\n",
    "#### 值的定义\n",
    "- 值\n",
    "  - 有固定类型的信息。比如说数字1，一句话“hello world”，一只狗，这个世界...\n",
    "\n",
    "- 什么样的东西不是值\n",
    "  - 流程，步骤，逻辑，算法不是值--而是操作值的过程。比如说加法运算，把大象装进冰箱里，都不是值\n",
    "\n",
    "- 打印出来一个值\n",
    "  - print(1)"
   ]
  },
  {
   "cell_type": "markdown",
   "metadata": {
    "slideshow": {
     "slide_type": "slide"
    }
   },
   "source": [
    "## 2.1 变量\n",
    "\n",
    "#### 变量定义\n",
    "- 变量\n",
    "  - 存储值的名称。名称不会变，但是代表的值会变。比如说时间，每时每刻都在加一，但是“时间”这个名称是不变的。比如说一间宿舍，宿舍里的人是按届换的，但是宿舍号是不变的。因此，变量，变的是存储的值，不变的是变量的名字，因此不同的变量名字用来存储不同意义的值，name='Bob', age=21，名字可能改名，年龄每年都在+1。\n",
    "  - 打印出来变量里的值 print(x)\n",
    "- 变量名\n",
    "  - 以字母或下划线开头，由字母、数字或下划线组成\n",
    "  - 不能以Python关键字作为变量名，比如if, for等\n",
    "  - 不要使用特殊变量名（以`__`）开始和结尾\n",
    "  \n",
    "- 变量赋值\n",
    "  - 写法： 变量名 = 值或其他变量名, 比如x=1, y=x\n",
    "  - 赋值方向：等号两侧从右往左"
   ]
  },
  {
   "cell_type": "code",
   "execution_count": 6,
   "metadata": {
    "scrolled": true
   },
   "outputs": [],
   "source": [
    "x = 1\n",
    "y = x"
   ]
  },
  {
   "cell_type": "markdown",
   "metadata": {
    "slideshow": {
     "slide_type": "subslide"
    }
   },
   "source": [
    "#### 变量类型\n",
    "  - 每个变量里的数据都有自己的数据类型\n",
    "  - 可以用函数 type(x) 查看x里存储数据的类型\n",
    "  \n",
    "#### 动态类型\n",
    "  - 在变量定义时无需指定变量的类型\n",
    "  - 同一个变量可以被赋予完全不同类型的取值"
   ]
  },
  {
   "cell_type": "code",
   "execution_count": 2,
   "metadata": {
    "scrolled": true
   },
   "outputs": [
    {
     "name": "stdout",
     "output_type": "stream",
     "text": [
      "<class 'int'>\n",
      "<class 'float'>\n",
      "<class 'str'>\n"
     ]
    }
   ],
   "source": [
    "x = 1\n",
    "print(type(x))\n",
    "x = 1.1\n",
    "print(type(x))\n",
    "x = 'abc' \n",
    "print(type(x))"
   ]
  },
  {
   "cell_type": "markdown",
   "metadata": {},
   "source": [
    "- 类型注解（Type Hint）\n",
    "  - 非强制性"
   ]
  },
  {
   "cell_type": "code",
   "execution_count": 1,
   "metadata": {},
   "outputs": [],
   "source": [
    "x: int = 1\n",
    "x: float = 1.1\n",
    "x: str = 'python'"
   ]
  },
  {
   "cell_type": "code",
   "execution_count": 3,
   "metadata": {},
   "outputs": [
    {
     "data": {
      "text/plain": [
       "True"
      ]
     },
     "execution_count": 3,
     "metadata": {},
     "output_type": "execute_result"
    }
   ],
   "source": [
    "x = y = z = 1\n",
    "x, y, z = 1, 2, 3\n",
    "x, y = y, x  # 交换数值 "
   ]
  },
  {
   "cell_type": "markdown",
   "metadata": {
    "slideshow": {
     "slide_type": "subslide"
    }
   },
   "source": [
    "## 2.2 表达式\n",
    "#### 表达式定义\n",
    "- 表达式\n",
    "  - 由操作符和左右两端的操作数构成的具有运算结果的算式。写法：操作数1 操作符 操作数2\n",
    "  - 打印出来变量里的值 print(x)"
   ]
  },
  {
   "cell_type": "markdown",
   "metadata": {
    "slideshow": {
     "slide_type": "-"
    }
   },
   "source": [
    "__算术运算符__\n",
    "\n",
    "| 运算符 | 功能 | 增强运算符 |\n",
    "| :----: | :--: | :--------: |\n",
    "|  `+`   |  加  |    `+=`    |\n",
    "|  `-`   |  减  |    `-=`    |\n",
    "|  `*`   |  乘  |    `*=`    |\n",
    "|  `/`   |  除  |    `/=`    |\n",
    "|  `**`  | 乘方 |   `**=`    |\n",
    "|  `//`  | 整除 |   `//=`    |\n",
    "|  `%`   | 求余 |    `%=`    |"
   ]
  },
  {
   "cell_type": "code",
   "execution_count": 2,
   "metadata": {},
   "outputs": [
    {
     "data": {
      "text/plain": [
       "23"
      ]
     },
     "execution_count": 2,
     "metadata": {},
     "output_type": "execute_result"
    }
   ],
   "source": [
    "3 + 4 * 5"
   ]
  },
  {
   "cell_type": "code",
   "execution_count": 3,
   "metadata": {},
   "outputs": [
    {
     "data": {
      "text/plain": [
       "3.3333333333333335"
      ]
     },
     "execution_count": 3,
     "metadata": {},
     "output_type": "execute_result"
    }
   ],
   "source": [
    "10 / 3"
   ]
  },
  {
   "cell_type": "code",
   "execution_count": 4,
   "metadata": {},
   "outputs": [
    {
     "data": {
      "text/plain": [
       "3"
      ]
     },
     "execution_count": 4,
     "metadata": {},
     "output_type": "execute_result"
    }
   ],
   "source": [
    "10 // 3"
   ]
  },
  {
   "cell_type": "code",
   "execution_count": 5,
   "metadata": {
    "scrolled": true
   },
   "outputs": [
    {
     "data": {
      "text/plain": [
       "1"
      ]
     },
     "execution_count": 5,
     "metadata": {},
     "output_type": "execute_result"
    }
   ],
   "source": [
    "10 % 3"
   ]
  },
  {
   "cell_type": "markdown",
   "metadata": {
    "slideshow": {
     "slide_type": "-"
    }
   },
   "source": [
    "__关系运算符__\n",
    "\n",
    "| 运算符 |   功能   |\n",
    "| :----: | :------: |\n",
    "|  `>`   |   大于   |\n",
    "|  `<`   |   小于   |\n",
    "|  `>=`  | 大于等于 |\n",
    "|  `<=`  | 小于等于 |\n",
    "|  `==`  | 逻辑相等 |\n",
    "|  `!=`  |  不等于  |"
   ]
  },
  {
   "cell_type": "markdown",
   "metadata": {
    "slideshow": {
     "slide_type": "subslide"
    }
   },
   "source": [
    "__逻辑运算符__\n",
    "\n",
    "|  运算符  |                功能                |\n",
    "| :------: | :--------------------------------: |\n",
    "|  `and`   |               逻辑与               |\n",
    "|   `or`   |               逻辑或               |\n",
    "|  `not`   |               逻辑非               |"
   ]
  },
  {
   "cell_type": "code",
   "execution_count": 7,
   "metadata": {},
   "outputs": [],
   "source": [
    "x, y = 1, 2"
   ]
  },
  {
   "cell_type": "code",
   "execution_count": 8,
   "metadata": {},
   "outputs": [
    {
     "data": {
      "text/plain": [
       "True"
      ]
     },
     "execution_count": 8,
     "metadata": {},
     "output_type": "execute_result"
    }
   ],
   "source": [
    "x == 1"
   ]
  },
  {
   "cell_type": "code",
   "execution_count": 9,
   "metadata": {},
   "outputs": [
    {
     "data": {
      "text/plain": [
       "True"
      ]
     },
     "execution_count": 9,
     "metadata": {},
     "output_type": "execute_result"
    }
   ],
   "source": [
    "x == 1 and y == 2"
   ]
  },
  {
   "cell_type": "code",
   "execution_count": 10,
   "metadata": {},
   "outputs": [
    {
     "data": {
      "text/plain": [
       "False"
      ]
     },
     "execution_count": 10,
     "metadata": {},
     "output_type": "execute_result"
    }
   ],
   "source": [
    "x < y < 0 "
   ]
  },
  {
   "cell_type": "markdown",
   "metadata": {
    "slideshow": {
     "slide_type": "subslide"
    }
   },
   "source": [
    "### 2.1.5 运算符的优先级\n",
    "  \n",
    "- 逻辑运算符 > 比较运算 > 算术运算符\n",
    "- 合理使用`()`\n"
   ]
  },
  {
   "cell_type": "code",
   "execution_count": 1,
   "metadata": {
    "scrolled": true
   },
   "outputs": [
    {
     "data": {
      "text/plain": [
       "True"
      ]
     },
     "execution_count": 1,
     "metadata": {},
     "output_type": "execute_result"
    }
   ],
   "source": [
    "1>2 or 2>1"
   ]
  },
  {
   "cell_type": "markdown",
   "metadata": {
    "slideshow": {
     "slide_type": "slide"
    }
   },
   "source": [
    "## 2.2 语句\n",
    "\n",
    "- 语句定义\n",
    "    - 具有完整功能的一行或者一段代码\n",
    "    \n",
    "### 2.2.1 简单语句\n",
    "\n",
    "- 赋值语句\n",
    "    - 上面的表达式算出来结果之后，并没有把结果存在任何变量里，赋值语句就是用来把表达式结果存在变量里的语句，比如 x = x1 + x2\n",
    "- 函数语句\n",
    "    - 一个函数的调用就是一条语句\n",
    "    - 此处用print(x)和input('...')距离\n",
    "- 删除语句"
   ]
  },
  {
   "cell_type": "code",
   "execution_count": 13,
   "metadata": {
    "scrolled": true
   },
   "outputs": [
    {
     "name": "stdout",
     "output_type": "stream",
     "text": [
      "Hello Python!\n"
     ]
    }
   ],
   "source": [
    "print(\"Hello Python!\")"
   ]
  },
  {
   "cell_type": "code",
   "execution_count": 14,
   "metadata": {},
   "outputs": [
    {
     "name": "stdout",
     "output_type": "stream",
     "text": [
      "x= 1 , y= 2 abc\n"
     ]
    }
   ],
   "source": [
    "x, y = 1, 2\n",
    "print(\"x=\", x, \", y=\", y, 'abc')"
   ]
  },
  {
   "cell_type": "code",
   "execution_count": 11,
   "metadata": {},
   "outputs": [
    {
     "name": "stdout",
     "output_type": "stream",
     "text": [
      "请输入数据：1\n",
      "1\n",
      "<class 'str'>\n"
     ]
    }
   ],
   "source": [
    "s = input(\"请输入数据：\")\n",
    "print(s)\n",
    "print(type(s))"
   ]
  },
  {
   "cell_type": "code",
   "execution_count": 8,
   "metadata": {
    "scrolled": true
   },
   "outputs": [
    {
     "ename": "NameError",
     "evalue": "name 'x' is not defined",
     "output_type": "error",
     "traceback": [
      "\u001b[0;31m---------------------------------------------------------------------------\u001b[0m",
      "\u001b[0;31mNameError\u001b[0m                                 Traceback (most recent call last)",
      "\u001b[0;32m<ipython-input-8-3dde88e24a37>\u001b[0m in \u001b[0;36m<module>\u001b[0;34m\u001b[0m\n\u001b[1;32m      1\u001b[0m \u001b[0mx\u001b[0m \u001b[0;34m=\u001b[0m \u001b[0;36m10\u001b[0m\u001b[0;34m\u001b[0m\u001b[0;34m\u001b[0m\u001b[0m\n\u001b[1;32m      2\u001b[0m \u001b[0;32mdel\u001b[0m \u001b[0mx\u001b[0m\u001b[0;34m\u001b[0m\u001b[0;34m\u001b[0m\u001b[0m\n\u001b[0;32m----> 3\u001b[0;31m \u001b[0mx\u001b[0m\u001b[0;34m\u001b[0m\u001b[0;34m\u001b[0m\u001b[0m\n\u001b[0m",
      "\u001b[0;31mNameError\u001b[0m: name 'x' is not defined"
     ]
    }
   ],
   "source": [
    "x = 10\n",
    "del x\n",
    "x"
   ]
  },
  {
   "cell_type": "markdown",
   "metadata": {
    "slideshow": {
     "slide_type": "subslide"
    }
   },
   "source": [
    "### 2.2.2 复合语句与空语句\n",
    "\n",
    "- 复合语句（语句块）\n",
    "  - C/C++、C#、Java中使用`{}`\n",
    "  - VB中使用`begin ... end`\n",
    "  - Python使用代码的缩进来标识出一个语句块\n",
    "    - 连续多条具有相同缩进的语句，会被解释器判断为隶属于一个语句块\n",
    "    - 代码的缩进是强制性的"
   ]
  },
  {
   "cell_type": "code",
   "execution_count": 7,
   "metadata": {},
   "outputs": [
    {
     "name": "stdout",
     "output_type": "stream",
     "text": [
      "Hello\n",
      "Python\n"
     ]
    }
   ],
   "source": [
    "if True:\n",
    "    print('Hello')\n",
    "    print('Python') \n",
    "    if True:\n",
    "        pass"
   ]
  },
  {
   "cell_type": "markdown",
   "metadata": {
    "slideshow": {
     "slide_type": "subslide"
    }
   },
   "source": [
    "- 语句换行\n",
    "  - 过长的语句也会影响代码的可读性"
   ]
  },
  {
   "cell_type": "code",
   "execution_count": 22,
   "metadata": {},
   "outputs": [
    {
     "data": {
      "text/plain": [
       "True"
      ]
     },
     "execution_count": 22,
     "metadata": {},
     "output_type": "execute_result"
    }
   ],
   "source": [
    "5 > 3 and \\\n",
    "1 < 2"
   ]
  },
  {
   "cell_type": "code",
   "execution_count": 13,
   "metadata": {},
   "outputs": [
    {
     "data": {
      "text/plain": [
       "True"
      ]
     },
     "execution_count": 13,
     "metadata": {},
     "output_type": "execute_result"
    }
   ],
   "source": [
    "5 > 3 and (\n",
    "    1 < 2)"
   ]
  },
  {
   "cell_type": "markdown",
   "metadata": {
    "slideshow": {
     "slide_type": "subslide"
    }
   },
   "source": [
    "- 空语句\n",
    "  - `pass`\n",
    "  - 用于标识出空语句块"
   ]
  },
  {
   "cell_type": "code",
   "execution_count": 13,
   "metadata": {},
   "outputs": [],
   "source": [
    "if True:\n",
    "    pass"
   ]
  },
  {
   "cell_type": "markdown",
   "metadata": {
    "slideshow": {
     "slide_type": "subslide"
    }
   },
   "source": [
    " ### 2.2.3 注释\n",
    "\n",
    "- 单行注释\n",
    "  - `#`\n",
    "- 多行注释\n",
    "  - `'''`\n",
    "  - `\"\"\"`\n",
    "- 特殊注释\n",
    "  - `#!/usr/bin/python`、`#!/usr/bin/env/python`或其他解释器所在路径\n",
    "  - `# -*- coding: utf-8 -*-` 或 `# coding=utf-8`"
   ]
  },
  {
   "cell_type": "markdown",
   "metadata": {
    "slideshow": {
     "slide_type": "slide"
    }
   },
   "source": [
    "## 2.3 数据类型\n",
    "\n",
    "### 2.3.1 基本数据类型\n",
    "\n",
    "\n",
    "<center>Python基本数据类型</center>\n",
    "\n",
    "| 类型 | 表示符                    | 示例                     |\n",
    "| ---- | ------------------------- | ------------------------ |\n",
    "| 字符 | `str`                     | `'Hello Python'`         |\n",
    "| 整型 | `int` | `1`     |\n",
    "| 浮点数 | `float` | `1.1`      |\n",
    "| 列表 | `list`| `[1, 2, 3]`|\n",
    "| 元组 | `tuple`| `(1, 2, 3)`|\n",
    "| 字典 | `dict`                    | `{'x': 1, 'y': 2}`       |\n",
    "| 集合 | `set`        | `{1, 2, 3}`              |\n",
    "| 布尔 | `bool`                    | `True`, `False`          |"
   ]
  },
  {
   "cell_type": "markdown",
   "metadata": {
    "slideshow": {
     "slide_type": "subslide"
    }
   },
   "source": [
    "\n",
    "### 2.3.2 int, float, None\n",
    "- 数值类型\n",
    "  - `int`\n",
    "  - `float`\n",
    "- 空类型: 表示没有\n",
    "    - `None`"
   ]
  },
  {
   "cell_type": "markdown",
   "metadata": {
    "slideshow": {
     "slide_type": "subslide"
    }
   },
   "source": [
    "### 2.3.3 str\n",
    "\n",
    "- 字符串: 用单引号或者双引号括起来的一段文字，可以是任意字符，中英文，数字，符号\n",
    "  - `'Hello Python'`\n",
    "  - `\"Hello Python\"`\n",
    "  - `'''Hello Python'''`\n",
    "  - `\"\"\"Hello Python\"\"\"`\n",
    "  \n",
    "  \n",
    "  \n",
    "- 特殊字符\n",
    "  - `'\\n'` : 换行\n",
    "  - `'\\r'` : 回车\n",
    "  - `'\\\\'` : 反斜线\n",
    "  - `'\\''` : 单引号\n",
    "  - `'\\\"'` : 双引号"
   ]
  },
  {
   "cell_type": "code",
   "execution_count": 29,
   "metadata": {},
   "outputs": [
    {
     "name": "stdout",
     "output_type": "stream",
     "text": [
      "\n",
      "   Hello\n",
      "   Python\n",
      "\n"
     ]
    }
   ],
   "source": [
    "s = \"Hello' Python\"\n",
    "s = 'Hello\" Python'\n",
    "s = '''\n",
    "   Hello\n",
    "   Python\n",
    "'''\n",
    "print(s)"
   ]
  },
  {
   "cell_type": "markdown",
   "metadata": {},
   "source": [
    "- 字符串大小写转换\n",
    "\n",
    "| 操作           | 功能             | 示例输入             | 示例操作       | 示例输出           |\n",
    "| :-------------- | :---------------- |: -------------------- | :-------------- | :------------------ |\n",
    "| `str.lower`    | 所有字母转为小写 | `s='Python'`         | `s.lower()`    | `'python'`         |\n",
    "| `str.upper`    | 所有字母转为大写 | `s='Python'`         | `s.upper()`    | `PYTHON`           |\n",
    "| `str.swapcase` | 大小写互换       | `s='Python'`         | `s.swapcase()` | `'pYTHON'`         |\n",
    "| `str.title`    | 单词首字母大写   | `s='python is easy'` | `s.title()`    | `'Python Is Easy'` |\n"
   ]
  },
  {
   "cell_type": "code",
   "execution_count": null,
   "metadata": {},
   "outputs": [],
   "source": []
  },
  {
   "cell_type": "markdown",
   "metadata": {},
   "source": [
    "- 空白去除与填充\n",
    "\n",
    "|操作|功能|示例输入|示例操作|示例输出|\n",
    "|:---|:---|:---|:---|:---|\n",
    "|`str.strip`| 去除两侧空白 | `s=' Python '` | `s.strip()` | `'Python'` |\n",
    "|`str.lstrip`| 去除左侧空白 | `s=' Python '` | `s.lstrip()` | `'Python '`|\n",
    "|`str.rstrip`| 去除右侧空白 | `s=' Python '` | `s.rstrip()` | `' Python'` |"
   ]
  },
  {
   "cell_type": "code",
   "execution_count": null,
   "metadata": {},
   "outputs": [],
   "source": []
  },
  {
   "cell_type": "markdown",
   "metadata": {},
   "source": [
    "- 字符串查找与替换\n",
    "\n",
    "|操作|功能|示例输入|示例操作|示例输出|\n",
    "|:---|:---|:---|:---|:---|\n",
    "|`str.find`| 从左查找子串，<br>返回索引或-1 | `s='Python is easy'` | `s.find('y')` | `1` |\n",
    "|`str.rfind`| 从右查找子串，<br>返回索引或-1 | `s='Python is easy'` | `s.rfind('y')` | `13` |\n",
    "|`str.index`| 从左查找子串，<br>返回索引或错误 | `s='Python is easy'` | `s.index('y')` | `1` |\n",
    "|`str.rindex`| 从右查找子串，<br>返回索引或错误 | `s='Python is easy'` | `s.rindex('y')` | `13` |\n",
    "|`str.replace`| 替换子串 | `s='Python is easy'` | `s.replace('is', '')` | `'Python  easy'` |\n",
    "|`str.expandtabs`| Tab符替换为空格 | `s='Python\\teasy'` | `s.expandtabs(2)` | `'Python  easy'` |"
   ]
  },
  {
   "cell_type": "code",
   "execution_count": null,
   "metadata": {},
   "outputs": [],
   "source": []
  },
  {
   "cell_type": "markdown",
   "metadata": {},
   "source": [
    "- 字符串分割\n",
    "\n",
    "|操作|功能|示例输入|示例操作|示例输出|\n",
    "|:---|:---|:---|:---|:---|\n",
    "|`str.split`| 从左侧分割 | `s='a,b,c'` | `s.split(',')` | `['a', 'b', 'c']` |\n",
    "|`str.rsplit`| 从右侧分割 | `s='a,b,c'` | `s.rsplit(',', 1)` | `['a,b', 'c']` |\n",
    "|`str.splitlines`| 按行分割 | `s='a\\nb\\nc'` | `s.splitlines()` | `['a', 'b', 'c']` |\n",
    "|`str.partition`| 从左侧切断 | `s='a,b,c'` | `s.partition(',')` | `('a', ',', 'b,c')` |\n",
    "|`str.rpartition`| 从右侧切断 | `s='a,b,c'` | `s.rpartition(',')` | `('a,b', ',', 'c')` |"
   ]
  },
  {
   "cell_type": "code",
   "execution_count": null,
   "metadata": {},
   "outputs": [],
   "source": []
  },
  {
   "cell_type": "markdown",
   "metadata": {
    "slideshow": {
     "slide_type": "subslide"
    }
   },
   "source": [
    "### 2.3.4 list\n",
    "- 列表：用方括号括起来的一组数据，这组数据里每个元素用逗号隔开，每个元素数据类型可以一样也可以不一样\n"
   ]
  },
  {
   "cell_type": "code",
   "execution_count": 2,
   "metadata": {},
   "outputs": [
    {
     "data": {
      "text/plain": [
       "list"
      ]
     },
     "execution_count": 2,
     "metadata": {},
     "output_type": "execute_result"
    }
   ],
   "source": [
    "l = [9, 5, 2, 7, 'abc']\n",
    "type(l)"
   ]
  },
  {
   "cell_type": "markdown",
   "metadata": {},
   "source": [
    "- 列表里元素的索引\n",
    "    - 索引：列表里的元素在列表里位置的编号，从左到右，从0开始，每往右一个，索引加一。从右往左，从-1开始，每往左一个，索引减一\n",
    "    - 列表 ['a', 1, ['a', 1]] 中 元素'a'的索引是0， 元素1的索引是1，元素 ['a',1] 索引是2\n",
    "    \n",
    "    \n",
    "- 通过索引获取列表某个位置的元素\n",
    "    - 写法：列表名[索引号]，如list1[1]， list1[-2]\n",
    "    \n",
    "    \n",
    "- 列表切片：通过索引范围获取列表某个片段\n",
    "    - 写法：列表名[起始索引 : 结束索引+1]，包括起始结束索引对应的元素"
   ]
  },
  {
   "cell_type": "code",
   "execution_count": 6,
   "metadata": {},
   "outputs": [
    {
     "name": "stdout",
     "output_type": "stream",
     "text": [
      "9\n",
      "[5, 2, 7]\n"
     ]
    }
   ],
   "source": [
    "t = [9, 5, 2, 7, 'abc']\n",
    "print(t[0])\n",
    "print(t[1:4])"
   ]
  },
  {
   "cell_type": "markdown",
   "metadata": {},
   "source": [
    "- 列表更改某个位置元素的值"
   ]
  },
  {
   "cell_type": "code",
   "execution_count": 14,
   "metadata": {},
   "outputs": [
    {
     "name": "stdout",
     "output_type": "stream",
     "text": [
      "[0, 100, 3]\n"
     ]
    }
   ],
   "source": [
    "a = [1,2,3]\n",
    "a[0] = 0\n",
    "a[1] = 100\n",
    "print(a)"
   ]
  },
  {
   "cell_type": "markdown",
   "metadata": {},
   "source": [
    "- 更改列表某个片段元素的值"
   ]
  },
  {
   "cell_type": "code",
   "execution_count": 17,
   "metadata": {},
   "outputs": [
    {
     "name": "stdout",
     "output_type": "stream",
     "text": [
      "[1, 2, 3, 4.5, 5.5, 6]\n"
     ]
    }
   ],
   "source": [
    "a = [1,2,3,4,5,6]\n",
    "a[3:5] = [4.5,5.5]\n",
    "print(a)"
   ]
  },
  {
   "cell_type": "markdown",
   "metadata": {},
   "source": [
    "- 列表添加元素\n",
    "    - `a_list.append(x)`\n",
    "    - `a_list.insert(position, obj)`\n",
    "    - `a_list + b_list`"
   ]
  },
  {
   "cell_type": "markdown",
   "metadata": {},
   "source": [
    "- 列表删除元素\n",
    "    - `a_list.remove(obj)`"
   ]
  },
  {
   "cell_type": "code",
   "execution_count": 10,
   "metadata": {},
   "outputs": [
    {
     "data": {
      "text/plain": [
       "[1, 2, 3, 2]"
      ]
     },
     "execution_count": 10,
     "metadata": {},
     "output_type": "execute_result"
    }
   ],
   "source": [
    "a = [1,2,2,3,2]\n",
    "a.remove(2)\n",
    "a"
   ]
  },
  {
   "cell_type": "markdown",
   "metadata": {},
   "source": [
    "- 列表长度: 列表里元素的个数，通过len(a_list)返回"
   ]
  },
  {
   "cell_type": "code",
   "execution_count": 19,
   "metadata": {},
   "outputs": [
    {
     "name": "stdout",
     "output_type": "stream",
     "text": [
      "3\n"
     ]
    }
   ],
   "source": [
    "a = [1,2,3]\n",
    "print(len(a))"
   ]
  },
  {
   "cell_type": "markdown",
   "metadata": {
    "slideshow": {
     "slide_type": "subslide"
    }
   },
   "source": [
    "- 列表数值排序\n",
    "    - sorted(a_list)函数返回一个新的列表\n",
    "    - a_list.sort()无返回值，直接在原列表里排序"
   ]
  },
  {
   "cell_type": "code",
   "execution_count": 20,
   "metadata": {},
   "outputs": [
    {
     "name": "stdout",
     "output_type": "stream",
     "text": [
      "[1, 3, 2, 4, 0, 5]\n",
      "[0, 1, 2, 3, 4, 5]\n"
     ]
    }
   ],
   "source": [
    "a = [1,3,2,4,0,5]\n",
    "b = sorted(a)\n",
    "print(a)\n",
    "print(b)"
   ]
  },
  {
   "cell_type": "code",
   "execution_count": 21,
   "metadata": {},
   "outputs": [
    {
     "name": "stdout",
     "output_type": "stream",
     "text": [
      "[0, 1, 2, 3, 4, 5]\n",
      "None\n"
     ]
    }
   ],
   "source": [
    "a = [1,3,2,4,0,5]\n",
    "b = a.sort()\n",
    "print(a)\n",
    "print(b)"
   ]
  },
  {
   "cell_type": "markdown",
   "metadata": {},
   "source": [
    "- 列表是否相等：列表相等的条件是完全相同，意味着列表里元素个数一样，每个索引上元素值一样"
   ]
  },
  {
   "cell_type": "code",
   "execution_count": 22,
   "metadata": {},
   "outputs": [],
   "source": [
    "a = [1,2,3]\n",
    "b = [1,2,3]"
   ]
  }
 ],
 "metadata": {
  "author": "liuchen",
  "celltoolbar": "幻灯片",
  "kernelspec": {
   "display_name": "Python 3 (ipykernel)",
   "language": "python",
   "name": "python3"
  },
  "language_info": {
   "codemirror_mode": {
    "name": "ipython",
    "version": 3
   },
   "file_extension": ".py",
   "mimetype": "text/x-python",
   "name": "python",
   "nbconvert_exporter": "python",
   "pygments_lexer": "ipython3",
   "version": "3.9.7"
  },
  "rise": {
   "enable_chalkboard": true,
   "footer": "",
   "progress": true,
   "scroll": true,
   "slideNumber": true
  },
  "toc": {
   "base_numbering": 1,
   "nav_menu": {},
   "number_sections": false,
   "sideBar": true,
   "skip_h1_title": false,
   "title_cell": "Table of Contents",
   "title_sidebar": "Contents",
   "toc_cell": false,
   "toc_position": {},
   "toc_section_display": true,
   "toc_window_display": false
  },
  "url": "https://github.com/hitlic/python_book"
 },
 "nbformat": 4,
 "nbformat_minor": 4
}
