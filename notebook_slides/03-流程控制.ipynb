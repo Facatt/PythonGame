{
 "cells": [
  {
   "cell_type": "markdown",
   "id": "c7901ad3",
   "metadata": {},
   "source": [
    "## 复习：len()函数，input()函数"
   ]
  },
  {
   "cell_type": "code",
   "execution_count": null,
   "id": "f67a8f7e",
   "metadata": {},
   "outputs": [],
   "source": []
  },
  {
   "cell_type": "markdown",
   "id": "a090a349",
   "metadata": {},
   "source": [
    "## 复习几个类型转换函数"
   ]
  },
  {
   "cell_type": "code",
   "execution_count": null,
   "id": "4197d68e",
   "metadata": {},
   "outputs": [],
   "source": [
    "# int()\n",
    "\n",
    "# str()\n",
    "\n",
    "# list()\n"
   ]
  },
  {
   "cell_type": "markdown",
   "id": "5ef99c1c",
   "metadata": {},
   "source": [
    "## 3. 流程控制\n",
    "\n",
    "### 3.1 结构化程序设计\n",
    "\n",
    "- 结构化程序设计是一种编程范式或编程思维，最早由荷兰计算机科学家Edsger Dijkstra提出\n",
    "- 核心的特征\n",
    "  - 将软件代码划分为子程序（函数或方法）、代码块等模块，再通过流程控制将各模块连接起来\n",
    "- 作用\n",
    "  - 程序具有清晰的逻辑结构\n",
    "  - 提高软件质量\n",
    "  - 降低软件的维护成本\n"
   ]
  },
  {
   "cell_type": "markdown",
   "id": "0a0ababa",
   "metadata": {},
   "source": [
    "- 三种基本的流程控制结构\n",
    "  - 顺序结构\n",
    "  - 选择结构\n",
    "  - 循环结构"
   ]
  },
  {
   "cell_type": "markdown",
   "id": "0baf1c0d",
   "metadata": {},
   "source": [
    "### 3.2 选择/条件判断\n",
    "\n",
    "- 语法\n",
    "\n",
    "```\n",
    "if 逻辑表达式1:\n",
    "    语句块1\n",
    "elif 逻辑表达式2:\n",
    "    语句块2\n",
    "elif 逻辑表达式3:\n",
    "    语句块3\n",
    "...\n",
    "else:\n",
    "    语句块\n",
    "\n",
    "```"
   ]
  },
  {
   "cell_type": "markdown",
   "id": "85c86c3d",
   "metadata": {},
   "source": [
    "#### 单层多分支选择/条件判断"
   ]
  },
  {
   "cell_type": "code",
   "execution_count": 1,
   "id": "2fd2ab69",
   "metadata": {},
   "outputs": [
    {
     "name": "stdout",
     "output_type": "stream",
     "text": [
      "请输入一个整数：1\n",
      "您输入了一个正数！\n"
     ]
    }
   ],
   "source": [
    "x = int(input(\"请输入一个整数：\"))\n",
    "if x < 0:\n",
    "    print(\"您输入了一个负数！\")\n",
    "elif x == 0:\n",
    "    print(\"您输入了零！\")\n",
    "else:\n",
    "    print(\"您输入了一个正数！\")"
   ]
  },
  {
   "cell_type": "markdown",
   "id": "a7814f8d",
   "metadata": {},
   "source": [
    "#### 二层嵌套选择条件判断"
   ]
  },
  {
   "cell_type": "code",
   "execution_count": null,
   "id": "71ede66a",
   "metadata": {},
   "outputs": [],
   "source": [
    "# 工资计算器\n",
    "# 假设学校里教师职称级别A,B,C；工作时长5,10,20年三个时间段间隔；按照这两个条件发工资\n",
    "\n",
    "level = input('Enter your level: ')\n",
    "years = int(input('Enter your years of working: '))\n",
    "level_salary = {'level 1':10,\n",
    "                'level 2':20,\n",
    "                'level 3':30,\n",
    "                'level 4':40,\n",
    "                'level 5':50}\n",
    "\n",
    "if level == 'A':\n",
    "    if years<5:\n",
    "        print('your salary is '+ str(level_salary['level 1']))\n",
    "    elif 5<=years<10:\n",
    "        print('your salary is '+ str(level_salary['level 2']))\n",
    "    #...同学们自己完成"
   ]
  },
  {
   "cell_type": "markdown",
   "id": "671fa671",
   "metadata": {},
   "source": [
    "### 3.3 循环\n",
    "\n",
    "#### `for`循环\n",
    "- 遍历可迭代对象\n",
    "- 语法\n",
    "  ```\n",
    "  for 变量 in 可迭代对象:\n",
    "    语句块\n",
    "  ```"
   ]
  },
  {
   "cell_type": "code",
   "execution_count": 2,
   "id": "e6660213",
   "metadata": {},
   "outputs": [
    {
     "name": "stdout",
     "output_type": "stream",
     "text": [
      "1\n",
      "2\n",
      "3\n",
      "4\n",
      "5\n"
     ]
    }
   ],
   "source": [
    "#遍历列表\n",
    "list_1 = [1,2,3,4,5]\n",
    "for i in list_1:\n",
    "    print(i)"
   ]
  },
  {
   "cell_type": "code",
   "execution_count": 5,
   "id": "9dca844d",
   "metadata": {},
   "outputs": [
    {
     "name": "stdout",
     "output_type": "stream",
     "text": [
      "a\n",
      "b\n",
      "c\n",
      "d\n",
      "e\n"
     ]
    }
   ],
   "source": [
    "#遍历字符串\n",
    "str_1 = 'abcde'\n",
    "for i in str_1:\n",
    "    print(i)"
   ]
  },
  {
   "cell_type": "markdown",
   "id": "f470ff16",
   "metadata": {},
   "source": [
    "- `range`函数\n",
    "  - `range(n)`：返回一个最小值为0，最大值为n-1的range对象；\n",
    "  - `range(m, n)`：返回一个最小值为m，最大值为n-1的range对象；\n",
    "  - `range(m, n, s)`：返回一个最小值为m，最大值为n-1，步长为s的range对象。\n",
    "  - range对象是一个类似列表的东西，可以通过list()函数转为列表"
   ]
  },
  {
   "cell_type": "code",
   "execution_count": 6,
   "id": "eb3713fc",
   "metadata": {},
   "outputs": [
    {
     "name": "stdout",
     "output_type": "stream",
     "text": [
      "range(0, 5)\n"
     ]
    }
   ],
   "source": [
    "print(range(5))"
   ]
  },
  {
   "cell_type": "code",
   "execution_count": 7,
   "id": "5cb19b17",
   "metadata": {},
   "outputs": [
    {
     "name": "stdout",
     "output_type": "stream",
     "text": [
      "[0, 1, 2, 3, 4]\n"
     ]
    }
   ],
   "source": [
    "print(list(range(5)))"
   ]
  },
  {
   "cell_type": "code",
   "execution_count": 8,
   "id": "b00b1f3a",
   "metadata": {},
   "outputs": [
    {
     "name": "stdout",
     "output_type": "stream",
     "text": [
      "55\n"
     ]
    }
   ],
   "source": [
    "# 1-10求和\n",
    "sum_l = 0\n",
    "for n in range(1,11):\n",
    "    sum_l += n\n",
    "print(sum_l)"
   ]
  },
  {
   "cell_type": "code",
   "execution_count": 14,
   "id": "43d23add",
   "metadata": {},
   "outputs": [
    {
     "name": "stdout",
     "output_type": "stream",
     "text": [
      "2500\n"
     ]
    }
   ],
   "source": [
    "# 求大于等于1且小于100的奇数之和\n",
    "sum_odd = 0\n",
    "for n in range(1, 100, 2):\n",
    "    sum_odd += n\n",
    "print(sum_odd)"
   ]
  },
  {
   "cell_type": "code",
   "execution_count": 13,
   "id": "d40b8192",
   "metadata": {},
   "outputs": [
    {
     "name": "stdout",
     "output_type": "stream",
     "text": [
      "3\n",
      "100\n"
     ]
    }
   ],
   "source": [
    "# 统计100以内个位数是2并且能够被3整除的数的个数\n",
    "\n",
    "count = 0\n",
    "\n",
    "for i in range(100):\n",
    "    if i % 10 == 2 and i % 3 == 0:\n",
    "        count += 1\n",
    "    i += 1\n",
    "    \n",
    "print(count)\n",
    "print(i)\n"
   ]
  },
  {
   "cell_type": "markdown",
   "id": "a989fce9",
   "metadata": {},
   "source": [
    "- `enumerate`函数\n",
    "  - `enumerate`函数能够将一个可迭代对象转换成enumerate对象\n",
    "  - 每个元素都是一个形如`(索引, 值)`的元组"
   ]
  },
  {
   "cell_type": "code",
   "execution_count": 15,
   "id": "b0d4e872",
   "metadata": {},
   "outputs": [
    {
     "name": "stdout",
     "output_type": "stream",
     "text": [
      "Python 的第 1 个字母是 P\n",
      "Python 的第 2 个字母是 y\n",
      "Python 的第 3 个字母是 t\n",
      "Python 的第 4 个字母是 h\n",
      "Python 的第 5 个字母是 o\n",
      "Python 的第 6 个字母是 n\n"
     ]
    }
   ],
   "source": [
    "text = 'Python'\n",
    "for i, s in enumerate(text):\n",
    "    print(text, '的第', i+1, '个字母是', s)"
   ]
  },
  {
   "cell_type": "markdown",
   "id": "87e149c1",
   "metadata": {},
   "source": [
    "- `zip`函数\n",
    "  - 像拉链一样将两个序列“咬合”起来\n",
    "  - 接受两个或多个序列对象，返回一个可迭代的`zip`对象"
   ]
  },
  {
   "cell_type": "code",
   "execution_count": 16,
   "id": "ecd79a82",
   "metadata": {},
   "outputs": [
    {
     "name": "stdout",
     "output_type": "stream",
     "text": [
      "张三 的分数是 95\n",
      "李四 的分数是 59\n",
      "王五 的分数是 80\n"
     ]
    }
   ],
   "source": [
    "names = ['张三', '李四', '王五']\n",
    "scores = [95, 59, 80]\n",
    "for name, score in zip(names, scores):\n",
    "    print(name, \"的分数是\", score)"
   ]
  },
  {
   "cell_type": "markdown",
   "id": "f4b373de",
   "metadata": {},
   "source": [
    "#### `while`循环\n",
    "\n",
    "- 语法\n",
    "  ```\n",
    "  while 条件表达式:\n",
    "    语句块\n",
    "  ```\n",
    "  - 语句块中必须有改变条件表达式的语句或者退出循环的语句"
   ]
  },
  {
   "cell_type": "code",
   "execution_count": 17,
   "id": "8e5480f9",
   "metadata": {},
   "outputs": [
    {
     "name": "stdout",
     "output_type": "stream",
     "text": [
      "55\n"
     ]
    }
   ],
   "source": [
    "sum_value = 0\n",
    "i = 1\n",
    "while i <= 10:\n",
    "    sum_value += i\n",
    "    i += 1          # 不要忘记改变循环条件\n",
    "print(sum_value)"
   ]
  },
  {
   "cell_type": "code",
   "execution_count": 20,
   "id": "ba6ef7c5",
   "metadata": {},
   "outputs": [
    {
     "name": "stdout",
     "output_type": "stream",
     "text": [
      "3\n",
      "100\n"
     ]
    }
   ],
   "source": [
    "# 统计100以内个位数是2并且能够被3整除的数的个数\n",
    "count = 0\n",
    "i = 0\n",
    "while i < 100:\n",
    "    if i % 10 == 2 and i % 3 == 0:\n",
    "        count += 1\n",
    "    i += 1\n",
    "print(count)\n",
    "print(i)\n"
   ]
  },
  {
   "cell_type": "markdown",
   "id": "413c8982",
   "metadata": {},
   "source": [
    "#### `break`与`continue`\n",
    "\n",
    "- `break`\n",
    "  - 提前终止循环\n",
    "- `continue`\n",
    "  - 中止当前的迭代，提前进入到下一轮迭代"
   ]
  },
  {
   "cell_type": "code",
   "execution_count": 22,
   "id": "2231249e",
   "metadata": {},
   "outputs": [
    {
     "name": "stdout",
     "output_type": "stream",
     "text": [
      "0\n",
      "1\n",
      "2\n"
     ]
    }
   ],
   "source": [
    "for i in range(5):\n",
    "    if i == 3:\n",
    "        break\n",
    "    print(i)"
   ]
  },
  {
   "cell_type": "code",
   "execution_count": 21,
   "id": "da604508",
   "metadata": {},
   "outputs": [
    {
     "name": "stdout",
     "output_type": "stream",
     "text": [
      "3\n",
      "6\n",
      "9\n",
      "12\n",
      "15\n",
      "18\n"
     ]
    }
   ],
   "source": [
    "# 输出20以内所有能被3整除的数\n",
    "i = 0\n",
    "while True:\n",
    "    if i >= 20:\n",
    "        break\n",
    "    i += 1\n",
    "    if i % 3 != 0:\n",
    "        continue\n",
    "    print(i)"
   ]
  },
  {
   "cell_type": "code",
   "execution_count": null,
   "id": "5b9ec4cc",
   "metadata": {},
   "outputs": [],
   "source": [
    "# 输入任意一个正整数，求他是几位数？\n",
    "\n",
    "a = int(input('请输入一个正整数：'))\n",
    "count = 0\n",
    "while a != 0:\n",
    "    a //= 10\n",
    "    count += 1\n",
    "print('它是', count, '位数')\n"
   ]
  }
 ],
 "metadata": {
  "kernelspec": {
   "display_name": "Python 3 (ipykernel)",
   "language": "python",
   "name": "python3"
  },
  "language_info": {
   "codemirror_mode": {
    "name": "ipython",
    "version": 3
   },
   "file_extension": ".py",
   "mimetype": "text/x-python",
   "name": "python",
   "nbconvert_exporter": "python",
   "pygments_lexer": "ipython3",
   "version": "3.9.7"
  }
 },
 "nbformat": 4,
 "nbformat_minor": 5
}
